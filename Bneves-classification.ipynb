{
 "cells": [
  {
   "cell_type": "code",
   "execution_count": 1,
   "metadata": {},
   "outputs": [
    {
     "data": {
      "text/plain": [
       "'0.22.1'"
      ]
     },
     "execution_count": 1,
     "metadata": {},
     "output_type": "execute_result"
    }
   ],
   "source": [
    "import numpy as np  #algebra\n",
    "import pandas as pd  #processamento de dados\n",
    "import matplotlib.pyplot as plt  #plotagem\n",
    "import seaborn as sns   #visualizações\n",
    "sns.set(style=\"darkgrid\")\n",
    "\n",
    "import sklearn\n",
    "sklearn.__version__"
   ]
  },
  {
   "cell_type": "code",
   "execution_count": 111,
   "metadata": {},
   "outputs": [],
   "source": [
    "data=pd.read_excel('Bneves1.xlsx')\n",
    "test_data = pd.read_excel('Bneves_novos1.xlsx')"
   ]
  },
  {
   "cell_type": "code",
   "execution_count": 112,
   "metadata": {},
   "outputs": [
    {
     "data": {
      "text/html": [
       "<div>\n",
       "<style scoped>\n",
       "    .dataframe tbody tr th:only-of-type {\n",
       "        vertical-align: middle;\n",
       "    }\n",
       "\n",
       "    .dataframe tbody tr th {\n",
       "        vertical-align: top;\n",
       "    }\n",
       "\n",
       "    .dataframe thead th {\n",
       "        text-align: right;\n",
       "    }\n",
       "</style>\n",
       "<table border=\"1\" class=\"dataframe\">\n",
       "  <thead>\n",
       "    <tr style=\"text-align: right;\">\n",
       "      <th></th>\n",
       "      <th>Service</th>\n",
       "      <th>Source Port</th>\n",
       "      <th>Source</th>\n",
       "      <th>Destination</th>\n",
       "      <th>Protocol</th>\n",
       "      <th>Action</th>\n",
       "    </tr>\n",
       "  </thead>\n",
       "  <tbody>\n",
       "    <tr>\n",
       "      <td>0</td>\n",
       "      <td>80.0</td>\n",
       "      <td>27147.0</td>\n",
       "      <td>170786933</td>\n",
       "      <td>3574405249</td>\n",
       "      <td>tcp</td>\n",
       "      <td>Drop</td>\n",
       "    </tr>\n",
       "    <tr>\n",
       "      <td>1</td>\n",
       "      <td>NaN</td>\n",
       "      <td>NaN</td>\n",
       "      <td>2099066206</td>\n",
       "      <td>3264014475</td>\n",
       "      <td>icmp</td>\n",
       "      <td>Drop</td>\n",
       "    </tr>\n",
       "    <tr>\n",
       "      <td>2</td>\n",
       "      <td>80.0</td>\n",
       "      <td>27162.0</td>\n",
       "      <td>170786933</td>\n",
       "      <td>3272084332</td>\n",
       "      <td>tcp</td>\n",
       "      <td>Drop</td>\n",
       "    </tr>\n",
       "    <tr>\n",
       "      <td>3</td>\n",
       "      <td>NaN</td>\n",
       "      <td>NaN</td>\n",
       "      <td>234889614</td>\n",
       "      <td>3264014475</td>\n",
       "      <td>icmp</td>\n",
       "      <td>Drop</td>\n",
       "    </tr>\n",
       "    <tr>\n",
       "      <td>4</td>\n",
       "      <td>80.0</td>\n",
       "      <td>27297.0</td>\n",
       "      <td>170786933</td>\n",
       "      <td>2728392430</td>\n",
       "      <td>tcp</td>\n",
       "      <td>Drop</td>\n",
       "    </tr>\n",
       "  </tbody>\n",
       "</table>\n",
       "</div>"
      ],
      "text/plain": [
       "   Service  Source Port      Source  Destination Protocol Action\n",
       "0     80.0      27147.0   170786933   3574405249      tcp   Drop\n",
       "1      NaN          NaN  2099066206   3264014475     icmp   Drop\n",
       "2     80.0      27162.0   170786933   3272084332      tcp   Drop\n",
       "3      NaN          NaN   234889614   3264014475     icmp   Drop\n",
       "4     80.0      27297.0   170786933   2728392430      tcp   Drop"
      ]
     },
     "execution_count": 112,
     "metadata": {},
     "output_type": "execute_result"
    }
   ],
   "source": [
    "#data = data.head(10)\n",
    "data.head()"
   ]
  },
  {
   "cell_type": "code",
   "execution_count": 113,
   "metadata": {},
   "outputs": [
    {
     "name": "stdout",
     "output_type": "stream",
     "text": [
      "<class 'pandas.core.frame.DataFrame'>\n",
      "RangeIndex: 229387 entries, 0 to 229386\n",
      "Data columns (total 6 columns):\n",
      "Service        226608 non-null float64\n",
      "Source Port    226608 non-null float64\n",
      "Source         229387 non-null int64\n",
      "Destination    229387 non-null int64\n",
      "Protocol       229387 non-null object\n",
      "Action         229387 non-null object\n",
      "dtypes: float64(2), int64(2), object(2)\n",
      "memory usage: 10.5+ MB\n"
     ]
    }
   ],
   "source": [
    "data.info()"
   ]
  },
  {
   "cell_type": "code",
   "execution_count": 114,
   "metadata": {},
   "outputs": [
    {
     "name": "stdout",
     "output_type": "stream",
     "text": [
      "<class 'pandas.core.frame.DataFrame'>\n",
      "RangeIndex: 229387 entries, 0 to 229386\n",
      "Data columns (total 6 columns):\n",
      "Service        226608 non-null category\n",
      "Source Port    226608 non-null category\n",
      "Source         229387 non-null category\n",
      "Destination    229387 non-null category\n",
      "Protocol       229387 non-null category\n",
      "Action         229387 non-null category\n",
      "dtypes: category(6)\n",
      "memory usage: 6.2 MB\n"
     ]
    }
   ],
   "source": [
    "# copiar os dados para mais tarde na classificação\n",
    "train_data = data.copy()\n",
    "# converter os dados numéricos para categóricos\n",
    "col_names = list(data) #retirar os nomes dos atributos\n",
    "for col in col_names:\n",
    "    data[col] = data[col].astype('category',copy=False)\n",
    "    \n",
    "data.info()"
   ]
  },
  {
   "cell_type": "code",
   "execution_count": 115,
   "metadata": {},
   "outputs": [
    {
     "data": {
      "image/png": "[encoded data removed]",
      "text/plain": [
       "<Figure size 504x504 with 1 Axes>"
      ]
     },
     "metadata": {
      "needs_background": "light"
     },
     "output_type": "display_data"
    }
   ],
   "source": [
    "# Protocol bar plot\n",
    "from collections import Counter\n",
    "protocol_count = Counter(data.Protocol)\n",
    "most_protocol = protocol_count.most_common()\n",
    "protocol_name, count = zip(*most_protocol)\n",
    "protocol_name, count = list(protocol_name), list(count)\n",
    "\n",
    "plt.figure(figsize=(7,7))\n",
    "ax=sns.barplot(x=protocol_name, y=count, palette='Set1')\n",
    "plt.xlabel('Protocol')\n",
    "plt.ylabel('Frequência')\n",
    "plt.title('Protocolos mais comuns')\n",
    "plt.show()"
   ]
  },
  {
   "cell_type": "code",
   "execution_count": 116,
   "metadata": {},
   "outputs": [
    {
     "data": {
      "image/png": "[encoded data removed]",
      "text/plain": [
       "<Figure size 504x504 with 1 Axes>"
      ]
     },
     "metadata": {
      "needs_background": "light"
     },
     "output_type": "display_data"
    }
   ],
   "source": [
    "plt.figure(figsize=(7,7))\n",
    "sns.countplot(x=\"Protocol\", hue=\"Action\", data=data, palette='Set2');"
   ]
  },
  {
   "cell_type": "code",
   "execution_count": 117,
   "metadata": {},
   "outputs": [],
   "source": [
    "#data['value']=1\n",
    "#data.columns = ['Service', 'Source Port', 'Source', 'Destination', 'source', 'target', 'value'] # alteração dos nomes das cols"
   ]
  },
  {
   "cell_type": "code",
   "execution_count": 118,
   "metadata": {
    "scrolled": true
   },
   "outputs": [],
   "source": [
    "#Sankeychart\n",
    "#baseado no script em:\n",
    "#github.com/allisonhonold/floweaver_blog/blob/master/floWeaver_blog.ipynb\n",
    "#from floweaver import *\n",
    "#from ipywidgets import *\n",
    "\n",
    "#nodes = {\n",
    "#    'start': ProcessGroup(list(data['source'])),\n",
    "#    'end': ProcessGroup(list(data['target'])),\n",
    "#}\n",
    "#ordering = [['start'],['end']]\n",
    "#bundles = [Bundle('start', 'end')]\n",
    "\n",
    "#nodes['start'].partition = Partition.Simple('source', data['source'].unique())\n",
    "#nodes['end'].partition = Partition.Simple('target', data['target'].unique())\n",
    "\n",
    "#sdd = SankeyDefinition(nodes, bundles, ordering)\n",
    "\n",
    "#weave(sdd, data).to_widget()"
   ]
  },
  {
   "cell_type": "code",
   "execution_count": 119,
   "metadata": {},
   "outputs": [],
   "source": [
    "#del data['value'] #só usado uma vez\n",
    "#data.columns=['Service', 'Source Port', 'Source', 'Destination', 'Protocol', 'Action']\n",
    "#data.head()"
   ]
  },
  {
   "cell_type": "code",
   "execution_count": 120,
   "metadata": {},
   "outputs": [
    {
     "data": {
      "image/png": "[encoded data removed]",
      "text/plain": [
       "<Figure size 1440x504 with 1 Axes>"
      ]
     },
     "metadata": {
      "needs_background": "light"
     },
     "output_type": "display_data"
    }
   ],
   "source": [
    "plt.figure(figsize=(20,7))\n",
    "chart=sns.countplot(x=\"Source\", hue=\"Action\", data=data, palette='Set2', edgecolor=None, order=data.Source.value_counts().iloc[:50].index)\n",
    "chart.set_xticklabels(chart.get_xticklabels(), rotation=90);"
   ]
  },
  {
   "cell_type": "code",
   "execution_count": 121,
   "metadata": {
    "scrolled": true
   },
   "outputs": [
    {
     "data": {
      "image/png": "[encoded data removed]",
      "text/plain": [
       "<Figure size 1440x504 with 1 Axes>"
      ]
     },
     "metadata": {
      "needs_background": "light"
     },
     "output_type": "display_data"
    }
   ],
   "source": [
    "plt.figure(figsize=(20,7))\n",
    "chart=sns.countplot(x=\"Destination\", hue='Action', data=data, palette='Set2', edgecolor=None, order=data.Destination.value_counts().iloc[:50].index)\n",
    "chart.set_xticklabels(chart.get_xticklabels(), rotation=90);"
   ]
  },
  {
   "cell_type": "code",
   "execution_count": 122,
   "metadata": {
    "scrolled": false
   },
   "outputs": [
    {
     "data": {
      "text/html": [
       "<div>\n",
       "<style scoped>\n",
       "    .dataframe tbody tr th:only-of-type {\n",
       "        vertical-align: middle;\n",
       "    }\n",
       "\n",
       "    .dataframe tbody tr th {\n",
       "        vertical-align: top;\n",
       "    }\n",
       "\n",
       "    .dataframe thead th {\n",
       "        text-align: right;\n",
       "    }\n",
       "</style>\n",
       "<table border=\"1\" class=\"dataframe\">\n",
       "  <thead>\n",
       "    <tr style=\"text-align: right;\">\n",
       "      <th></th>\n",
       "      <th>Service</th>\n",
       "      <th>Source Port</th>\n",
       "      <th>Source</th>\n",
       "      <th>Destination</th>\n",
       "      <th>Protocol</th>\n",
       "    </tr>\n",
       "  </thead>\n",
       "  <tbody>\n",
       "    <tr>\n",
       "      <td>0</td>\n",
       "      <td>12</td>\n",
       "      <td>23644</td>\n",
       "      <td>263</td>\n",
       "      <td>3160</td>\n",
       "      <td>1</td>\n",
       "    </tr>\n",
       "    <tr>\n",
       "      <td>1</td>\n",
       "      <td>1056</td>\n",
       "      <td>61142</td>\n",
       "      <td>5115</td>\n",
       "      <td>2669</td>\n",
       "      <td>0</td>\n",
       "    </tr>\n",
       "    <tr>\n",
       "      <td>2</td>\n",
       "      <td>12</td>\n",
       "      <td>23659</td>\n",
       "      <td>263</td>\n",
       "      <td>2758</td>\n",
       "      <td>1</td>\n",
       "    </tr>\n",
       "    <tr>\n",
       "      <td>3</td>\n",
       "      <td>1059</td>\n",
       "      <td>61141</td>\n",
       "      <td>280</td>\n",
       "      <td>2669</td>\n",
       "      <td>0</td>\n",
       "    </tr>\n",
       "    <tr>\n",
       "      <td>4</td>\n",
       "      <td>12</td>\n",
       "      <td>23777</td>\n",
       "      <td>263</td>\n",
       "      <td>2090</td>\n",
       "      <td>1</td>\n",
       "    </tr>\n",
       "  </tbody>\n",
       "</table>\n",
       "</div>"
      ],
      "text/plain": [
       "   Service  Source Port  Source  Destination  Protocol\n",
       "0       12        23644     263         3160         1\n",
       "1     1056        61142    5115         2669         0\n",
       "2       12        23659     263         2758         1\n",
       "3     1059        61141     280         2669         0\n",
       "4       12        23777     263         2090         1"
      ]
     },
     "execution_count": 122,
     "metadata": {},
     "output_type": "execute_result"
    }
   ],
   "source": [
    "data_copy = data.copy() #copia dos dados\n",
    "data_copy.drop(columns=['Action'], inplace=True) #largar a target variable\n",
    "\n",
    "from sklearn import preprocessing\n",
    "le = preprocessing.LabelEncoder() #vamos codificar as variáveis categóricas com labels numéricos\n",
    "data_copy = data_copy.apply(le.fit_transform)\n",
    "data_copy.head()"
   ]
  },
  {
   "cell_type": "code",
   "execution_count": 123,
   "metadata": {},
   "outputs": [
    {
     "name": "stdout",
     "output_type": "stream",
     "text": [
      "Init: initializing centroids\n",
      "Init: initializing clusters\n",
      "Starting iterations...\n",
      "Run 1, iteration: 1/100, moves: 0, cost: 625620.0\n",
      "Init: initializing centroids\n",
      "Init: initializing clusters\n",
      "Starting iterations...\n",
      "Run 1, iteration: 1/100, moves: 1230, cost: 552194.0\n",
      "Init: initializing centroids\n",
      "Init: initializing clusters\n",
      "Starting iterations...\n",
      "Run 1, iteration: 1/100, moves: 1235, cost: 551734.0\n",
      "Init: initializing centroids\n",
      "Init: initializing clusters\n",
      "Starting iterations...\n",
      "Run 1, iteration: 1/100, moves: 1236, cost: 546169.0\n"
     ]
    }
   ],
   "source": [
    "# escolha do número de clusters comparando o cost\n",
    "# implementação do modelo K-Modes\n",
    "# implementação baseada no trabalho em:\n",
    "# kaggle.com/ashydv/bank-customer-clustering-k-modes-clustering\n",
    "from kmodes.kmodes import KModes\n",
    "cost=[]\n",
    "for num_clusters in list(range(1,5)):\n",
    "    kmode = KModes(n_clusters=num_clusters, init='Cao', n_init=1, verbose=1)\n",
    "    kmode.fit_predict(data_copy)\n",
    "    cost.append(kmode.cost_)"
   ]
  },
  {
   "cell_type": "code",
   "execution_count": 124,
   "metadata": {},
   "outputs": [
    {
     "data": {
      "image/png": "[encoded data removed]",
      "text/plain": [
       "<Figure size 432x288 with 1 Axes>"
      ]
     },
     "metadata": {
      "needs_background": "light"
     },
     "output_type": "display_data"
    }
   ],
   "source": [
    "y = np.array([i for i in range(1,5,1)])\n",
    "plt.plot(y,cost);\n",
    "plt.title(\"Gráfico do cotovelo\")\n",
    "plt.ylabel(\"Custo\")\n",
    "plt.xlabel(\"Número (k) de Clusters\");"
   ]
  },
  {
   "cell_type": "code",
   "execution_count": 125,
   "metadata": {},
   "outputs": [
    {
     "name": "stdout",
     "output_type": "stream",
     "text": [
      "Init: initializing centroids\n",
      "Init: initializing clusters\n",
      "Starting iterations...\n",
      "Run 1, iteration: 1/100, moves: 1230, cost: 552194.0\n"
     ]
    }
   ],
   "source": [
    "# escolhemos k=2\n",
    "km=KModes(n_clusters=2, init='Cao', n_init=1, verbose=1)\n",
    "fitClusters=km.fit_predict(data_copy)"
   ]
  },
  {
   "cell_type": "code",
   "execution_count": 126,
   "metadata": {},
   "outputs": [],
   "source": [
    "data_copy = data.reset_index()"
   ]
  },
  {
   "cell_type": "code",
   "execution_count": 127,
   "metadata": {},
   "outputs": [],
   "source": [
    "clusters = pd.DataFrame(fitClusters)\n",
    "clusters.columns = ['predicted_cluster']\n",
    "combined = pd.concat([data_copy, clusters], axis=1).reset_index()\n",
    "combined = combined.drop(['index', 'level_0'], axis=1)"
   ]
  },
  {
   "cell_type": "code",
   "execution_count": 128,
   "metadata": {
    "scrolled": true
   },
   "outputs": [
    {
     "data": {
      "text/html": [
       "<div>\n",
       "<style scoped>\n",
       "    .dataframe tbody tr th:only-of-type {\n",
       "        vertical-align: middle;\n",
       "    }\n",
       "\n",
       "    .dataframe tbody tr th {\n",
       "        vertical-align: top;\n",
       "    }\n",
       "\n",
       "    .dataframe thead th {\n",
       "        text-align: right;\n",
       "    }\n",
       "</style>\n",
       "<table border=\"1\" class=\"dataframe\">\n",
       "  <thead>\n",
       "    <tr style=\"text-align: right;\">\n",
       "      <th></th>\n",
       "      <th>Service</th>\n",
       "      <th>Source Port</th>\n",
       "      <th>Source</th>\n",
       "      <th>Destination</th>\n",
       "      <th>Protocol</th>\n",
       "      <th>Action</th>\n",
       "      <th>predicted_cluster</th>\n",
       "    </tr>\n",
       "  </thead>\n",
       "  <tbody>\n",
       "    <tr>\n",
       "      <td>0</td>\n",
       "      <td>80.0</td>\n",
       "      <td>27147.0</td>\n",
       "      <td>170786933</td>\n",
       "      <td>3574405249</td>\n",
       "      <td>tcp</td>\n",
       "      <td>Drop</td>\n",
       "      <td>0</td>\n",
       "    </tr>\n",
       "    <tr>\n",
       "      <td>1</td>\n",
       "      <td>NaN</td>\n",
       "      <td>NaN</td>\n",
       "      <td>2099066206</td>\n",
       "      <td>3264014475</td>\n",
       "      <td>icmp</td>\n",
       "      <td>Drop</td>\n",
       "      <td>0</td>\n",
       "    </tr>\n",
       "    <tr>\n",
       "      <td>2</td>\n",
       "      <td>80.0</td>\n",
       "      <td>27162.0</td>\n",
       "      <td>170786933</td>\n",
       "      <td>3272084332</td>\n",
       "      <td>tcp</td>\n",
       "      <td>Drop</td>\n",
       "      <td>0</td>\n",
       "    </tr>\n",
       "    <tr>\n",
       "      <td>3</td>\n",
       "      <td>NaN</td>\n",
       "      <td>NaN</td>\n",
       "      <td>234889614</td>\n",
       "      <td>3264014475</td>\n",
       "      <td>icmp</td>\n",
       "      <td>Drop</td>\n",
       "      <td>0</td>\n",
       "    </tr>\n",
       "    <tr>\n",
       "      <td>4</td>\n",
       "      <td>80.0</td>\n",
       "      <td>27297.0</td>\n",
       "      <td>170786933</td>\n",
       "      <td>2728392430</td>\n",
       "      <td>tcp</td>\n",
       "      <td>Drop</td>\n",
       "      <td>0</td>\n",
       "    </tr>\n",
       "  </tbody>\n",
       "</table>\n",
       "</div>"
      ],
      "text/plain": [
       "  Service Source Port      Source Destination Protocol Action  \\\n",
       "0    80.0     27147.0   170786933  3574405249      tcp   Drop   \n",
       "1     NaN         NaN  2099066206  3264014475     icmp   Drop   \n",
       "2    80.0     27162.0   170786933  3272084332      tcp   Drop   \n",
       "3     NaN         NaN   234889614  3264014475     icmp   Drop   \n",
       "4    80.0     27297.0   170786933  2728392430      tcp   Drop   \n",
       "\n",
       "   predicted_cluster  \n",
       "0                  0  \n",
       "1                  0  \n",
       "2                  0  \n",
       "3                  0  \n",
       "4                  0  "
      ]
     },
     "execution_count": 128,
     "metadata": {},
     "output_type": "execute_result"
    }
   ],
   "source": [
    "combined.head()"
   ]
  },
  {
   "cell_type": "code",
   "execution_count": 129,
   "metadata": {},
   "outputs": [
    {
     "data": {
      "image/png": "[encoded data removed]",
      "text/plain": [
       "<Figure size 504x504 with 1 Axes>"
      ]
     },
     "metadata": {
      "needs_background": "light"
     },
     "output_type": "display_data"
    }
   ],
   "source": [
    "plt.subplots(figsize =(7,7))\n",
    "sns.countplot(x=combined['predicted_cluster'], order=combined['predicted_cluster'].value_counts().index, hue=combined['Action'], palette='Set2');"
   ]
  },
  {
   "cell_type": "code",
   "execution_count": 130,
   "metadata": {},
   "outputs": [
    {
     "data": {
      "image/png": "[encoded data removed]",
      "text/plain": [
       "<Figure size 1080x504 with 2 Axes>"
      ]
     },
     "metadata": {
      "needs_background": "light"
     },
     "output_type": "display_data"
    }
   ],
   "source": [
    "f, axs = plt.subplots(1, 2, figsize =(15,7))\n",
    "sns.countplot(x=combined['Protocol'], order=combined['Protocol'].value_counts().index, hue=combined['predicted_cluster'], palette='Set1',ax=axs[0]);\n",
    "sns.countplot(x=combined['Protocol'], order=combined['Protocol'].value_counts().index, hue=combined['Action'], palette='Set2', ax=axs[1]);\n",
    "\n",
    "plt.tight_layout()\n",
    "plt.show();"
   ]
  },
  {
   "cell_type": "code",
   "execution_count": 131,
   "metadata": {},
   "outputs": [],
   "source": [
    "## CLASSIFICAÇÃO\n",
    "\n",
    "from sklearn.metrics import confusion_matrix, auc, roc_auc_score\n",
    "from sklearn.metrics import recall_score, precision_score, accuracy_score, f1_score\n",
    "# é necessário fazer o encode das categóricas com labels numéricos para correr os classificadores\n",
    "from sklearn.preprocessing import LabelEncoder\n",
    "\n",
    "#boa prática atribuir a cada feature o seu próprio LabelEncoder em vez de fazer o encode à tabela inteira de uma só vez\n",
    "le_protocol = LabelEncoder()\n",
    "\n",
    "#fit - ajuste às variáveis, transform - transforma as variáveis nas labels\n",
    "# muito importante fazer o fit às variáveis de treino para depois transformar a test_data nas labels conformes\n",
    "train_data['Protocol'] = le_protocol.fit_transform(train_data['Protocol'])\n",
    "test_data['Protocol'] = le_protocol.transform(test_data['Protocol'])"
   ]
  },
  {
   "cell_type": "code",
   "execution_count": 132,
   "metadata": {},
   "outputs": [
    {
     "data": {
      "text/html": [
       "<div>\n",
       "<style scoped>\n",
       "    .dataframe tbody tr th:only-of-type {\n",
       "        vertical-align: middle;\n",
       "    }\n",
       "\n",
       "    .dataframe tbody tr th {\n",
       "        vertical-align: top;\n",
       "    }\n",
       "\n",
       "    .dataframe thead th {\n",
       "        text-align: right;\n",
       "    }\n",
       "</style>\n",
       "<table border=\"1\" class=\"dataframe\">\n",
       "  <thead>\n",
       "    <tr style=\"text-align: right;\">\n",
       "      <th></th>\n",
       "      <th>Service</th>\n",
       "      <th>Source Port</th>\n",
       "      <th>Source</th>\n",
       "      <th>Destination</th>\n",
       "      <th>Protocol</th>\n",
       "      <th>Action</th>\n",
       "    </tr>\n",
       "  </thead>\n",
       "  <tbody>\n",
       "    <tr>\n",
       "      <td>0</td>\n",
       "      <td>80.0</td>\n",
       "      <td>27147.0</td>\n",
       "      <td>170786933</td>\n",
       "      <td>3574405249</td>\n",
       "      <td>1</td>\n",
       "      <td>Drop</td>\n",
       "    </tr>\n",
       "    <tr>\n",
       "      <td>1</td>\n",
       "      <td>0.0</td>\n",
       "      <td>0.0</td>\n",
       "      <td>2099066206</td>\n",
       "      <td>3264014475</td>\n",
       "      <td>0</td>\n",
       "      <td>Drop</td>\n",
       "    </tr>\n",
       "    <tr>\n",
       "      <td>2</td>\n",
       "      <td>80.0</td>\n",
       "      <td>27162.0</td>\n",
       "      <td>170786933</td>\n",
       "      <td>3272084332</td>\n",
       "      <td>1</td>\n",
       "      <td>Drop</td>\n",
       "    </tr>\n",
       "    <tr>\n",
       "      <td>3</td>\n",
       "      <td>0.0</td>\n",
       "      <td>0.0</td>\n",
       "      <td>234889614</td>\n",
       "      <td>3264014475</td>\n",
       "      <td>0</td>\n",
       "      <td>Drop</td>\n",
       "    </tr>\n",
       "    <tr>\n",
       "      <td>4</td>\n",
       "      <td>80.0</td>\n",
       "      <td>27297.0</td>\n",
       "      <td>170786933</td>\n",
       "      <td>2728392430</td>\n",
       "      <td>1</td>\n",
       "      <td>Drop</td>\n",
       "    </tr>\n",
       "  </tbody>\n",
       "</table>\n",
       "</div>"
      ],
      "text/plain": [
       "   Service  Source Port      Source  Destination  Protocol Action\n",
       "0     80.0      27147.0   170786933   3574405249         1   Drop\n",
       "1      0.0          0.0  2099066206   3264014475         0   Drop\n",
       "2     80.0      27162.0   170786933   3272084332         1   Drop\n",
       "3      0.0          0.0   234889614   3264014475         0   Drop\n",
       "4     80.0      27297.0   170786933   2728392430         1   Drop"
      ]
     },
     "execution_count": 132,
     "metadata": {},
     "output_type": "execute_result"
    }
   ],
   "source": [
    "train_data = train_data.fillna(0)\n",
    "train_data.head()"
   ]
  },
  {
   "cell_type": "code",
   "execution_count": 133,
   "metadata": {},
   "outputs": [],
   "source": [
    "# divisão dos dados de treino e teste\n",
    "from sklearn.model_selection import train_test_split\n",
    "y = train_data['Action'].values #target variable\n",
    "X = train_data.drop(['Action'], axis=1).values #atributos\n",
    "\n",
    "#CLASSIFICAÇÃO DOS DADOS DE TESTE\n",
    "ytest = test_data['Action'].values #target variable\n",
    "Xtest = test_data.drop(['Action'], axis=1).values #atributos"
   ]
  },
  {
   "cell_type": "code",
   "execution_count": 134,
   "metadata": {},
   "outputs": [],
   "source": [
    "# dividimos os dados em 80% treino e 20% teste\n",
    "# stratify para manter a proporção\n",
    "#código baseado no trabalho desenvolvido em:\n",
    "#kaggle.com/lovedeepsaini/fraud-detection-with-naive-bayes-classifier\n",
    "\n",
    "X_train, X_test, y_train, y_test = train_test_split(X, y, test_size=0.2, random_state=42, stratify=y)"
   ]
  },
  {
   "cell_type": "code",
   "execution_count": 135,
   "metadata": {},
   "outputs": [],
   "source": [
    "def get_predictions(classifier, X_train, y_train, X_test, Xtest):\n",
    "    classifier = classifier \n",
    "    classifier.fit(X_train, y_train)\n",
    "    y_pred = classifier.predict(X_test) #previsões de teste\n",
    "    ypred = classifier.predict(Xtest)\n",
    "    y_pred_prob = classifier.predict_proba(X_test) #probabilidades previstas\n",
    "    train_pred = classifier.predict(X_train)\n",
    "    print('Matriz de confusão (dados de treino):\\n', confusion_matrix(y_train, train_pred))\n",
    "    return y_pred, y_pred_prob, ypred"
   ]
  },
  {
   "cell_type": "code",
   "execution_count": 136,
   "metadata": {},
   "outputs": [],
   "source": [
    "def print_scores(y_test, y_pred, y_pred_prob, ytest, ypred):\n",
    "    print('Matriz de confusão (dados de teste):\\n', confusion_matrix(y_test, y_pred))\n",
    "    \n",
    "    #RECALL SCORE = TP/(TP+FN) é a capacidade do classificador de encontrar os positivos\n",
    "    print('\\nAccept Recall Score: ', recall_score(y_test, y_pred, pos_label='Accept'))\n",
    "    #RECALL SCORE = TN/(TN+FP) é a capacidade do classificador de encontrar os negativos\n",
    "    print('Drop Recall Score: ', recall_score(y_test, y_pred, pos_label='Drop'))\n",
    "    \n",
    "    #PRECISION SCORE = TP/(TP+FP) é a capacidade de não classificar um positivo como negativo\n",
    "    print('\\nAccept Precision Score: ', precision_score(y_test, y_pred, pos_label='Accept'))\n",
    "    #PRECISION SCORE = TN/(TN+FN) é a capacidade de não classificar um negativo como positivo\n",
    "    print('Drop Precision Score: ', precision_score(y_test, y_pred, pos_label='Drop'))\n",
    "    \n",
    "    #F1 SCORE = (Precision*Recall)/(Precision + Recall) é a média da Precision e da Recall\n",
    "    print('\\nAccept F1 Score: ', f1_score(y_test, y_pred, pos_label='Accept'))\n",
    "    print('Drop F1 Score: ', f1_score(y_test, y_pred, pos_label='Drop'))\n",
    "    \n",
    "    #ACCURACY = 1-taxa de erro\n",
    "    print('\\nAccuracy: ', accuracy_score(y_test, y_pred))\n",
    "    #ROC AUC - representa uma medida de separabilidade - o quão capaz é o modelo de distinguir entre as classes\n",
    "    print('ROC AUC: {}'.format(roc_auc_score(y_test, y_pred_prob[:,1])))\n",
    "    \n",
    "    print('\\nDADOS DE TESTE\\n')\n",
    "    print('Matriz de confusão:\\n', confusion_matrix(ytest, ypred))\n",
    "    print('\\nAccuracy:', accuracy_score(ytest, ypred))\n",
    "    print(ypred)"
   ]
  },
  {
   "cell_type": "code",
   "execution_count": 137,
   "metadata": {},
   "outputs": [
    {
     "name": "stdout",
     "output_type": "stream",
     "text": [
      "Matriz de confusão (dados de treino):\n",
      " [[54420  9405]\n",
      " [23681 96003]]\n",
      "Matriz de confusão (dados de teste):\n",
      " [[13643  2314]\n",
      " [ 5910 24011]]\n",
      "\n",
      "Accept Recall Score:  0.8549852729209751\n",
      "Drop Recall Score:  0.802479863640921\n",
      "\n",
      "Accept Precision Score:  0.6977445916227689\n",
      "Drop Precision Score:  0.9120987654320988\n",
      "\n",
      "Accept F1 Score:  0.7684032666854409\n",
      "Drop F1 Score:  0.8537851580556839\n",
      "\n",
      "Accuracy:  0.820741967827717\n",
      "ROC AUC: 0.8287325682809481\n",
      "\n",
      "DADOS DE TESTE\n",
      "\n",
      "Matriz de confusão:\n",
      " [[10 10]\n",
      " [ 0  0]]\n",
      "\n",
      "Accuracy: 0.5\n",
      "['Drop' 'Drop' 'Accept' 'Accept' 'Accept' 'Accept' 'Drop' 'Drop' 'Accept'\n",
      " 'Accept' 'Drop' 'Drop' 'Drop' 'Drop' 'Accept' 'Drop' 'Accept' 'Accept'\n",
      " 'Accept' 'Drop']\n"
     ]
    }
   ],
   "source": [
    "from sklearn.naive_bayes import MultinomialNB ##só disponível com a versão 22.1 do sklearn\n",
    "\n",
    "y_pred, y_pred_prob, ypred = get_predictions(MultinomialNB(), X_train, y_train, X_test, Xtest)\n",
    "print_scores(y_test, y_pred, y_pred_prob, ytest, ypred)"
   ]
  },
  {
   "cell_type": "code",
   "execution_count": 138,
   "metadata": {},
   "outputs": [
    {
     "name": "stdout",
     "output_type": "stream",
     "text": [
      "Matriz de confusão (dados de treino):\n",
      " [[ 63685    140]\n",
      " [  1135 118549]]\n",
      "Matriz de confusão (dados de teste):\n",
      " [[15858    99]\n",
      " [  330 29591]]\n",
      "\n",
      "Accept Recall Score:  0.9937958262831359\n",
      "Drop Recall Score:  0.9889709568530464\n",
      "\n",
      "Accept Precision Score:  0.9796145292809488\n",
      "Drop Precision Score:  0.9966655439541934\n",
      "\n",
      "Accept F1 Score:  0.9866542230517966\n",
      "Drop F1 Score:  0.992803341665129\n",
      "\n",
      "Accuracy:  0.9906491128645538\n",
      "ROC AUC: 0.9961810277456482\n",
      "\n",
      "DADOS DE TESTE\n",
      "\n",
      "Matriz de confusão:\n",
      " [[12  8]\n",
      " [ 0  0]]\n",
      "\n",
      "Accuracy: 0.6\n",
      "['Drop' 'Drop' 'Accept' 'Accept' 'Accept' 'Accept' 'Accept' 'Drop' 'Drop'\n",
      " 'Accept' 'Drop' 'Drop' 'Accept' 'Accept' 'Accept' 'Drop' 'Accept'\n",
      " 'Accept' 'Accept' 'Drop']\n"
     ]
    }
   ],
   "source": [
    "from sklearn.tree import DecisionTreeClassifier\n",
    "\n",
    "y_pred, y_pred_prob, ypred = get_predictions(DecisionTreeClassifier(criterion = 'entropy',\n",
    "                                                                    max_depth=17, \n",
    "                                                                    min_samples_split=13, \n",
    "                                                                    min_samples_leaf=1), X_train, y_train, X_test, Xtest)\n",
    "print_scores(y_test, y_pred, y_pred_prob, ytest, ypred)"
   ]
  },
  {
   "cell_type": "code",
   "execution_count": 139,
   "metadata": {},
   "outputs": [
    {
     "name": "stdout",
     "output_type": "stream",
     "text": [
      "Matriz de confusão (dados de treino):\n",
      " [[ 63760     65]\n",
      " [   584 119100]]\n",
      "Matriz de confusão (dados de teste):\n",
      " [[15633   324]\n",
      " [  383 29538]]\n",
      "\n",
      "Accept Recall Score:  0.9796954314720813\n",
      "Drop Recall Score:  0.9871996256809599\n",
      "\n",
      "Accept Precision Score:  0.9760864135864136\n",
      "Drop Precision Score:  0.9891500904159132\n",
      "\n",
      "Accept F1 Score:  0.9778875926563039\n",
      "Drop F1 Score:  0.9881738955890471\n",
      "\n",
      "Accuracy:  0.9845895636252671\n",
      "ROC AUC: 0.9898609653077014\n",
      "\n",
      "DADOS DE TESTE\n",
      "\n",
      "Matriz de confusão:\n",
      " [[12  8]\n",
      " [ 0  0]]\n",
      "\n",
      "Accuracy: 0.6\n",
      "['Drop' 'Drop' 'Accept' 'Accept' 'Accept' 'Accept' 'Accept' 'Drop' 'Drop'\n",
      " 'Accept' 'Drop' 'Drop' 'Accept' 'Accept' 'Accept' 'Drop' 'Accept'\n",
      " 'Accept' 'Accept' 'Drop']\n"
     ]
    }
   ],
   "source": [
    "from sklearn.neighbors import KNeighborsClassifier\n",
    "\n",
    "y_pred, y_pred_prob, ypred = get_predictions(KNeighborsClassifier(n_neighbors=4, weights='distance'), X_train, y_train, X_test, Xtest)\n",
    "print_scores(y_test, y_pred, y_pred_prob, ytest, ypred)"
   ]
  },
  {
   "cell_type": "code",
   "execution_count": 144,
   "metadata": {},
   "outputs": [],
   "source": [
    "# Otimização de parâmetros da rede neuronal\n",
    "from keras.wrappers.scikit_learn import KerasClassifier\n",
    "from sklearn.model_selection import GridSearchCV\n",
    "\n",
    "from keras.models import Sequential\n",
    "from keras.layers import Dense, Activation, Embedding, Flatten, LeakyReLU, BatchNormalization, Dropout\n",
    "from keras.activations import relu, sigmoid"
   ]
  },
  {
   "cell_type": "code",
   "execution_count": 162,
   "metadata": {},
   "outputs": [],
   "source": [
    "def create_model(layers, activation):\n",
    "    rede_neuronal = Sequential()\n",
    "    for i, nodes in enumerate(layers):\n",
    "        if i==0:\n",
    "            rede_neuronal.add(Dense(nodes, input_dim = X_train.shape[1]))\n",
    "            rede_neuronal.add(Activation(activation))\n",
    "            rede_neuronal.add(Dropout(0.3))\n",
    "        else:\n",
    "            rede_neuronal.add(Dense(nodes))\n",
    "            rede_neuronal.add(Activation(activation))\n",
    "            rede_neuronal.add(Dropout(0.3))\n",
    "        \n",
    "    rede_neuronal.add(Dense(units = 1, kernel_initializer = 'glorot_uniform', activation='sigmoid'))\n",
    "    rede_neuronal.compile(optimizer='adam', loss='binary_crossentropy', metrics=['accuracy'])\n",
    "    return rede_neuronal"
   ]
  },
  {
   "cell_type": "code",
   "execution_count": 163,
   "metadata": {},
   "outputs": [],
   "source": [
    "rede_neuronal = KerasClassifier(build_fn=create_model, verbose=1)"
   ]
  },
  {
   "cell_type": "code",
   "execution_count": 188,
   "metadata": {},
   "outputs": [],
   "source": [
    "#layers=[[20], [40,20], [45, 30, 15]]\n",
    "layers = [(30, 30), (50, 30, 50)]\n",
    "activations = ['sigmoid', 'relu']\n",
    "param_grid = dict(layers=layers, activation = activations, batch_size = [128, 256], epochs=[10])\n",
    "grid = GridSearchCV(estimator=rede_neuronal, param_grid=param_grid, \n",
    "                    cv=3)"
   ]
  },
  {
   "cell_type": "code",
   "execution_count": 189,
   "metadata": {},
   "outputs": [
    {
     "name": "stdout",
     "output_type": "stream",
     "text": [
      "Epoch 1/10\n",
      "122339/122339 [==============================] - 2s 19us/step - loss: 0.5550 - accuracy: 0.7054\n",
      "Epoch 2/10\n",
      "122339/122339 [==============================] - 2s 16us/step - loss: 0.5005 - accuracy: 0.7413\n",
      "Epoch 3/10\n",
      "122339/122339 [==============================] - 2s 16us/step - loss: 0.4937 - accuracy: 0.7477\n",
      "Epoch 4/10\n",
      "122339/122339 [==============================] - 2s 17us/step - loss: 0.4941 - accuracy: 0.7491\n",
      "Epoch 5/10\n",
      "122339/122339 [==============================] - 2s 18us/step - loss: 0.4918 - accuracy: 0.7538\n",
      "Epoch 6/10\n",
      "122339/122339 [==============================] - 3s 22us/step - loss: 0.4900 - accuracy: 0.7538\n",
      "Epoch 7/10\n",
      "122339/122339 [==============================] - 2s 19us/step - loss: 0.4880 - accuracy: 0.7553\n",
      "Epoch 8/10\n",
      "122339/122339 [==============================] - 2s 19us/step - loss: 0.4888 - accuracy: 0.7538\n",
      "Epoch 9/10\n",
      "122339/122339 [==============================] - 2s 18us/step - loss: 0.4877 - accuracy: 0.7550\n",
      "Epoch 10/10\n",
      "122339/122339 [==============================] - 3s 21us/step - loss: 0.4873 - accuracy: 0.7556\n",
      "61170/61170 [==============================] - 0s 6us/step\n",
      "Epoch 1/10\n",
      "122339/122339 [==============================] - 3s 23us/step - loss: 0.5017 - accuracy: 0.7156\n",
      "Epoch 2/10\n",
      "122339/122339 [==============================] - 3s 21us/step - loss: 0.4439 - accuracy: 0.7558\n",
      "Epoch 3/10\n",
      "122339/122339 [==============================] - 3s 20us/step - loss: 0.4373 - accuracy: 0.7632\n",
      "Epoch 4/10\n",
      "122339/122339 [==============================] - 2s 20us/step - loss: 0.4343 - accuracy: 0.7672\n",
      "Epoch 5/10\n",
      "122339/122339 [==============================] - 2s 19us/step - loss: 0.4310 - accuracy: 0.7706\n",
      "Epoch 6/10\n",
      "122339/122339 [==============================] - 3s 22us/step - loss: 0.4303 - accuracy: 0.7710\n",
      "Epoch 7/10\n",
      "122339/122339 [==============================] - 3s 21us/step - loss: 0.4290 - accuracy: 0.7721\n",
      "Epoch 8/10\n",
      "122339/122339 [==============================] - 3s 22us/step - loss: 0.4287 - accuracy: 0.7734\n",
      "Epoch 9/10\n",
      "122339/122339 [==============================] - 2s 20us/step - loss: 0.4280 - accuracy: 0.7734\n",
      "Epoch 10/10\n",
      "122339/122339 [==============================] - 2s 19us/step - loss: 0.4275 - accuracy: 0.7737\n",
      "61170/61170 [==============================] - 0s 5us/step\n",
      "Epoch 1/10\n",
      "122340/122340 [==============================] - 3s 23us/step - loss: 0.5151 - accuracy: 0.7321\n",
      "Epoch 2/10\n",
      "122340/122340 [==============================] - 3s 21us/step - loss: 0.4561 - accuracy: 0.7894\n",
      "Epoch 3/10\n",
      "122340/122340 [==============================] - 3s 22us/step - loss: 0.4490 - accuracy: 0.7964\n",
      "Epoch 4/10\n",
      "122340/122340 [==============================] - 2s 20us/step - loss: 0.4463 - accuracy: 0.7978\n",
      "Epoch 5/10\n",
      "122340/122340 [==============================] - 2s 20us/step - loss: 0.4435 - accuracy: 0.7985\n",
      "Epoch 6/10\n",
      "122340/122340 [==============================] - 2s 20us/step - loss: 0.4429 - accuracy: 0.7990\n",
      "Epoch 7/10\n",
      "122340/122340 [==============================] - 2s 20us/step - loss: 0.4418 - accuracy: 0.7999\n",
      "Epoch 8/10\n",
      "122340/122340 [==============================] - 3s 21us/step - loss: 0.4399 - accuracy: 0.8002\n",
      "Epoch 9/10\n",
      "122340/122340 [==============================] - 3s 23us/step - loss: 0.4395 - accuracy: 0.8013\n",
      "Epoch 10/10\n",
      "122340/122340 [==============================] - 3s 21us/step - loss: 0.4409 - accuracy: 0.7999\n",
      "61169/61169 [==============================] - 0s 5us/step\n",
      "Epoch 1/10\n",
      "122339/122339 [==============================] - 5s 37us/step - loss: 0.5331 - accuracy: 0.7303\n",
      "Epoch 2/10\n",
      "122339/122339 [==============================] - 3s 28us/step - loss: 0.4739 - accuracy: 0.7801\n",
      "Epoch 3/10\n",
      "122339/122339 [==============================] - 3s 26us/step - loss: 0.4636 - accuracy: 0.7885\n",
      "Epoch 4/10\n",
      "122339/122339 [==============================] - 3s 26us/step - loss: 0.4596 - accuracy: 0.7922\n",
      "Epoch 5/10\n",
      "122339/122339 [==============================] - 3s 26us/step - loss: 0.4559 - accuracy: 0.7935\n",
      "Epoch 6/10\n",
      "122339/122339 [==============================] - 3s 26us/step - loss: 0.4546 - accuracy: 0.7935\n",
      "Epoch 7/10\n",
      "122339/122339 [==============================] - 3s 26us/step - loss: 0.4532 - accuracy: 0.7945\n",
      "Epoch 8/10\n",
      "122339/122339 [==============================] - 3s 27us/step - loss: 0.4507 - accuracy: 0.7957\n",
      "Epoch 9/10\n",
      "122339/122339 [==============================] - 3s 28us/step - loss: 0.4518 - accuracy: 0.7944\n",
      "Epoch 10/10\n",
      "122339/122339 [==============================] - 3s 29us/step - loss: 0.4506 - accuracy: 0.7950\n",
      "61170/61170 [==============================] - 1s 12us/step\n",
      "Epoch 1/10\n",
      "122339/122339 [==============================] - 4s 33us/step - loss: 0.4907 - accuracy: 0.7514\n",
      "Epoch 2/10\n",
      "122339/122339 [==============================] - 3s 28us/step - loss: 0.4147 - accuracy: 0.8049\n",
      "Epoch 3/10\n",
      "122339/122339 [==============================] - 4s 31us/step - loss: 0.4072 - accuracy: 0.8084\n",
      "Epoch 4/10\n",
      "122339/122339 [==============================] - 3s 29us/step - loss: 0.4037 - accuracy: 0.8110\n",
      "Epoch 5/10\n",
      "122339/122339 [==============================] - 3s 28us/step - loss: 0.4021 - accuracy: 0.8119\n",
      "Epoch 6/10\n",
      "122339/122339 [==============================] - 4s 30us/step - loss: 0.4009 - accuracy: 0.8128\n",
      "Epoch 7/10\n",
      "122339/122339 [==============================] - 4s 30us/step - loss: 0.3993 - accuracy: 0.8124\n",
      "Epoch 8/10\n",
      "122339/122339 [==============================] - 3s 28us/step - loss: 0.3982 - accuracy: 0.8144\n",
      "Epoch 9/10\n",
      "122339/122339 [==============================] - 3s 28us/step - loss: 0.3967 - accuracy: 0.8161\n",
      "Epoch 10/10\n",
      "122339/122339 [==============================] - 3s 27us/step - loss: 0.3968 - accuracy: 0.8160\n",
      "61170/61170 [==============================] - 1s 9us/step\n",
      "Epoch 1/10\n",
      "122340/122340 [==============================] - 4s 36us/step - loss: 0.5190 - accuracy: 0.7265\n",
      "Epoch 2/10\n",
      "122340/122340 [==============================] - 4s 32us/step - loss: 0.4247 - accuracy: 0.8006\n",
      "Epoch 3/10\n",
      "122340/122340 [==============================] - 4s 31us/step - loss: 0.4166 - accuracy: 0.8077\n",
      "Epoch 4/10\n",
      "122340/122340 [==============================] - 3s 29us/step - loss: 0.4079 - accuracy: 0.8120\n",
      "Epoch 5/10\n",
      "122340/122340 [==============================] - 3s 26us/step - loss: 0.4026 - accuracy: 0.8147\n",
      "Epoch 6/10\n",
      "122340/122340 [==============================] - 3s 25us/step - loss: 0.3989 - accuracy: 0.8164\n",
      "Epoch 7/10\n",
      "122340/122340 [==============================] - 3s 26us/step - loss: 0.3955 - accuracy: 0.8177\n",
      "Epoch 8/10\n",
      "122340/122340 [==============================] - 3s 25us/step - loss: 0.3928 - accuracy: 0.8193\n",
      "Epoch 9/10\n",
      "122340/122340 [==============================] - 3s 27us/step - loss: 0.3915 - accuracy: 0.8205\n",
      "Epoch 10/10\n",
      "122340/122340 [==============================] - 4s 29us/step - loss: 0.3890 - accuracy: 0.8212\n",
      "61169/61169 [==============================] - 1s 10us/step\n",
      "Epoch 1/10\n",
      "122339/122339 [==============================] - 2s 15us/step - loss: 0.5956 - accuracy: 0.6924\n",
      "Epoch 2/10\n",
      "122339/122339 [==============================] - 2s 12us/step - loss: 0.5377 - accuracy: 0.7455\n",
      "Epoch 3/10\n",
      "122339/122339 [==============================] - 1s 12us/step - loss: 0.5195 - accuracy: 0.7708\n",
      "Epoch 4/10\n",
      "122339/122339 [==============================] - 1s 12us/step - loss: 0.5103 - accuracy: 0.7818\n",
      "Epoch 5/10\n",
      "122339/122339 [==============================] - 1s 12us/step - loss: 0.5089 - accuracy: 0.7843\n",
      "Epoch 6/10\n",
      "122339/122339 [==============================] - 1s 12us/step - loss: 0.5044 - accuracy: 0.7882\n",
      "Epoch 7/10\n",
      "122339/122339 [==============================] - 1s 12us/step - loss: 0.5044 - accuracy: 0.7890\n",
      "Epoch 8/10\n",
      "122339/122339 [==============================] - 2s 12us/step - loss: 0.5011 - accuracy: 0.7915\n",
      "Epoch 9/10\n",
      "122339/122339 [==============================] - 2s 13us/step - loss: 0.5015 - accuracy: 0.7904\n",
      "Epoch 10/10\n",
      "122339/122339 [==============================] - 2s 13us/step - loss: 0.5015 - accuracy: 0.7908\n",
      "61170/61170 [==============================] - 0s 6us/step\n",
      "Epoch 1/10\n",
      "122339/122339 [==============================] - 2s 15us/step - loss: 0.4945 - accuracy: 0.7437\n",
      "Epoch 2/10\n",
      "122339/122339 [==============================] - 2s 13us/step - loss: 0.4250 - accuracy: 0.7877\n",
      "Epoch 3/10\n",
      "122339/122339 [==============================] - 2s 14us/step - loss: 0.4155 - accuracy: 0.7952\n",
      "Epoch 4/10\n",
      "122339/122339 [==============================] - 2s 14us/step - loss: 0.4114 - accuracy: 0.7988\n",
      "Epoch 5/10\n",
      "122339/122339 [==============================] - 2s 14us/step - loss: 0.4101 - accuracy: 0.8002\n",
      "Epoch 6/10\n",
      "122339/122339 [==============================] - 2s 15us/step - loss: 0.4072 - accuracy: 0.8024\n",
      "Epoch 7/10\n",
      "122339/122339 [==============================] - 2s 14us/step - loss: 0.4062 - accuracy: 0.8021\n",
      "Epoch 8/10\n",
      "122339/122339 [==============================] - 2s 13us/step - loss: 0.4043 - accuracy: 0.8034\n",
      "Epoch 9/10\n",
      "122339/122339 [==============================] - 2s 13us/step - loss: 0.4033 - accuracy: 0.8033\n",
      "Epoch 10/10\n",
      "122339/122339 [==============================] - 2s 13us/step - loss: 0.4031 - accuracy: 0.8037\n",
      "61170/61170 [==============================] - 0s 6us/step\n",
      "Epoch 1/10\n",
      "122340/122340 [==============================] - 2s 16us/step - loss: 0.5862 - accuracy: 0.6732\n",
      "Epoch 2/10\n",
      "122340/122340 [==============================] - 2s 14us/step - loss: 0.4855 - accuracy: 0.7394\n",
      "Epoch 3/10\n",
      "122340/122340 [==============================] - 2s 14us/step - loss: 0.4647 - accuracy: 0.7564\n",
      "Epoch 4/10\n",
      "122340/122340 [==============================] - 2s 13us/step - loss: 0.4583 - accuracy: 0.7643\n",
      "Epoch 5/10\n",
      "122340/122340 [==============================] - 2s 13us/step - loss: 0.4562 - accuracy: 0.7658\n",
      "Epoch 6/10\n",
      "122340/122340 [==============================] - 2s 15us/step - loss: 0.4549 - accuracy: 0.7671\n",
      "Epoch 7/10\n",
      "122340/122340 [==============================] - 2s 13us/step - loss: 0.4536 - accuracy: 0.7697\n",
      "Epoch 8/10\n",
      "122340/122340 [==============================] - 2s 13us/step - loss: 0.4529 - accuracy: 0.7701\n",
      "Epoch 9/10\n",
      "122340/122340 [==============================] - 2s 14us/step - loss: 0.4536 - accuracy: 0.7700\n",
      "Epoch 10/10\n",
      "122340/122340 [==============================] - 2s 14us/step - loss: 0.4516 - accuracy: 0.7718\n",
      "61169/61169 [==============================] - 0s 6us/step\n",
      "Epoch 1/10\n",
      "122339/122339 [==============================] - 3s 24us/step - loss: 0.5120 - accuracy: 0.7357\n",
      "Epoch 2/10\n",
      "122339/122339 [==============================] - 2s 20us/step - loss: 0.4264 - accuracy: 0.7959\n",
      "Epoch 3/10\n",
      "122339/122339 [==============================] - 2s 20us/step - loss: 0.4148 - accuracy: 0.8037\n",
      "Epoch 4/10\n",
      "122339/122339 [==============================] - 2s 19us/step - loss: 0.4125 - accuracy: 0.8047\n",
      "Epoch 5/10\n",
      "122339/122339 [==============================] - 2s 19us/step - loss: 0.4088 - accuracy: 0.8061\n",
      "Epoch 6/10\n",
      "122339/122339 [==============================] - 2s 18us/step - loss: 0.4079 - accuracy: 0.8068\n",
      "Epoch 7/10\n",
      "122339/122339 [==============================] - 2s 18us/step - loss: 0.4063 - accuracy: 0.8079\n",
      "Epoch 8/10\n",
      "122339/122339 [==============================] - 2s 18us/step - loss: 0.4045 - accuracy: 0.8096\n",
      "Epoch 9/10\n",
      "122339/122339 [==============================] - 2s 18us/step - loss: 0.4026 - accuracy: 0.8108\n",
      "Epoch 10/10\n",
      "122339/122339 [==============================] - 2s 18us/step - loss: 0.4009 - accuracy: 0.8121\n",
      "61170/61170 [==============================] - 0s 7us/step\n",
      "Epoch 1/10\n",
      "122339/122339 [==============================] - 3s 21us/step - loss: 0.4943 - accuracy: 0.7549\n",
      "Epoch 2/10\n",
      "122339/122339 [==============================] - 2s 19us/step - loss: 0.4183 - accuracy: 0.8102\n",
      "Epoch 3/10\n",
      "122339/122339 [==============================] - 2s 19us/step - loss: 0.4089 - accuracy: 0.8165\n",
      "Epoch 4/10\n",
      "122339/122339 [==============================] - 2s 19us/step - loss: 0.4052 - accuracy: 0.8189\n",
      "Epoch 5/10\n",
      "122339/122339 [==============================] - 2s 20us/step - loss: 0.4029 - accuracy: 0.8196\n",
      "Epoch 6/10\n",
      "122339/122339 [==============================] - 2s 20us/step - loss: 0.4013 - accuracy: 0.8209\n",
      "Epoch 7/10\n",
      "122339/122339 [==============================] - 2s 20us/step - loss: 0.3996 - accuracy: 0.8210\n",
      "Epoch 8/10\n",
      "122339/122339 [==============================] - 2s 20us/step - loss: 0.3986 - accuracy: 0.8224\n",
      "Epoch 9/10\n",
      "122339/122339 [==============================] - 2s 20us/step - loss: 0.3964 - accuracy: 0.8232\n",
      "Epoch 10/10\n",
      "122339/122339 [==============================] - 2s 19us/step - loss: 0.3963 - accuracy: 0.8239\n",
      "61170/61170 [==============================] - 0s 7us/step\n",
      "Epoch 1/10\n",
      "122340/122340 [==============================] - 3s 22us/step - loss: 0.5316 - accuracy: 0.7165\n",
      "Epoch 2/10\n",
      "122340/122340 [==============================] - 2s 19us/step - loss: 0.4250 - accuracy: 0.7850\n",
      "Epoch 3/10\n",
      "122340/122340 [==============================] - 2s 18us/step - loss: 0.4067 - accuracy: 0.7968\n",
      "Epoch 4/10\n",
      "122340/122340 [==============================] - 2s 17us/step - loss: 0.3987 - accuracy: 0.8015\n",
      "Epoch 5/10\n",
      "122340/122340 [==============================] - 2s 18us/step - loss: 0.3959 - accuracy: 0.8046\n",
      "Epoch 6/10\n",
      "122340/122340 [==============================] - 2s 18us/step - loss: 0.3947 - accuracy: 0.8055\n",
      "Epoch 7/10\n",
      "122340/122340 [==============================] - 2s 18us/step - loss: 0.3939 - accuracy: 0.8056\n",
      "Epoch 8/10\n",
      "122340/122340 [==============================] - 2s 20us/step - loss: 0.3912 - accuracy: 0.8076\n",
      "Epoch 9/10\n",
      "122340/122340 [==============================] - 2s 19us/step - loss: 0.3902 - accuracy: 0.8081\n",
      "Epoch 10/10\n",
      "122340/122340 [==============================] - 2s 20us/step - loss: 0.3885 - accuracy: 0.8083\n",
      "61169/61169 [==============================] - 1s 8us/step\n",
      "Epoch 1/10\n",
      "122339/122339 [==============================] - 3s 25us/step - loss: 18631605.6164 - accuracy: 0.6374\n",
      "Epoch 2/10\n",
      "122339/122339 [==============================] - 3s 21us/step - loss: 205897.9597 - accuracy: 0.5604\n",
      "Epoch 3/10\n",
      "122339/122339 [==============================] - 2s 20us/step - loss: 83093.5703 - accuracy: 0.5593\n",
      "Epoch 4/10\n",
      "122339/122339 [==============================] - 2s 19us/step - loss: 46687.9035 - accuracy: 0.5747\n",
      "Epoch 5/10\n",
      "122339/122339 [==============================] - 3s 21us/step - loss: 23195.7494 - accuracy: 0.5996\n",
      "Epoch 6/10\n",
      "122339/122339 [==============================] - 2s 20us/step - loss: 12538.7713 - accuracy: 0.6193\n",
      "Epoch 7/10\n",
      "122339/122339 [==============================] - 2s 19us/step - loss: 7107.6267 - accuracy: 0.6349\n",
      "Epoch 8/10\n",
      "122339/122339 [==============================] - 2s 19us/step - loss: 4692.5715 - accuracy: 0.6438\n",
      "Epoch 9/10\n",
      "122339/122339 [==============================] - 2s 18us/step - loss: 2704.3426 - accuracy: 0.6475\n",
      "Epoch 10/10\n",
      "122339/122339 [==============================] - 2s 20us/step - loss: 1408.8660 - accuracy: 0.6498\n",
      "61170/61170 [==============================] - 0s 5us/step\n",
      "Epoch 1/10\n",
      "122339/122339 [==============================] - 2s 20us/step - loss: 10128732.0310 - accuracy: 0.6744\n",
      "Epoch 2/10\n",
      "122339/122339 [==============================] - 2s 18us/step - loss: 142875.0763 - accuracy: 0.6672\n",
      "Epoch 3/10\n",
      "122339/122339 [==============================] - 2s 18us/step - loss: 43556.1898 - accuracy: 0.6606\n",
      "Epoch 4/10\n",
      "122339/122339 [==============================] - 2s 20us/step - loss: 21590.3890 - accuracy: 0.6477\n",
      "Epoch 5/10\n",
      "122339/122339 [==============================] - 2s 20us/step - loss: 11990.6218 - accuracy: 0.6216\n",
      "Epoch 6/10\n",
      "122339/122339 [==============================] - 2s 19us/step - loss: 6638.5851 - accuracy: 0.6164\n",
      "Epoch 7/10\n",
      "122339/122339 [==============================] - 2s 18us/step - loss: 3936.1867 - accuracy: 0.6256\n",
      "Epoch 8/10\n",
      "122339/122339 [==============================] - 2s 18us/step - loss: 1888.8073 - accuracy: 0.6359\n",
      "Epoch 9/10\n",
      "122339/122339 [==============================] - 2s 17us/step - loss: 1111.1816 - accuracy: 0.6432\n",
      "Epoch 10/10\n",
      "122339/122339 [==============================] - 2s 16us/step - loss: 830.1594 - accuracy: 0.6473\n",
      "61170/61170 [==============================] - 0s 5us/step\n",
      "Epoch 1/10\n",
      "122340/122340 [==============================] - 2s 17us/step - loss: 21886203.7768 - accuracy: 0.6327\n",
      "Epoch 2/10\n",
      "122340/122340 [==============================] - 2s 16us/step - loss: 232704.6656 - accuracy: 0.6037\n",
      "Epoch 3/10\n",
      "122340/122340 [==============================] - 2s 17us/step - loss: 76324.0018 - accuracy: 0.6212\n",
      "Epoch 4/10\n",
      "122340/122340 [==============================] - 2s 20us/step - loss: 27431.5766 - accuracy: 0.6356\n",
      "Epoch 5/10\n",
      "122340/122340 [==============================] - 3s 22us/step - loss: 13703.8182 - accuracy: 0.6438\n",
      "Epoch 6/10\n",
      "122340/122340 [==============================] - 3s 22us/step - loss: 7852.3138 - accuracy: 0.6472\n",
      "Epoch 7/10\n",
      "122340/122340 [==============================] - 3s 22us/step - loss: 3751.8276 - accuracy: 0.6500\n",
      "Epoch 8/10\n",
      "122340/122340 [==============================] - 3s 22us/step - loss: 2918.9852 - accuracy: 0.6517\n",
      "Epoch 9/10\n",
      "122340/122340 [==============================] - 3s 22us/step - loss: 928.6293 - accuracy: 0.6528\n",
      "Epoch 10/10\n",
      "122340/122340 [==============================] - 3s 21us/step - loss: 1553.4681 - accuracy: 0.6532\n",
      "61169/61169 [==============================] - 0s 5us/step\n",
      "Epoch 1/10\n",
      "122339/122339 [==============================] - 3s 26us/step - loss: 6400852.5481 - accuracy: 0.6355\n",
      "Epoch 2/10\n",
      "122339/122339 [==============================] - 3s 24us/step - loss: 52307.9915 - accuracy: 0.6496\n",
      "Epoch 3/10\n",
      "122339/122339 [==============================] - 3s 25us/step - loss: 13666.2709 - accuracy: 0.6507\n",
      "Epoch 4/10\n",
      "122339/122339 [==============================] - 3s 25us/step - loss: 4897.1669 - accuracy: 0.6511\n",
      "Epoch 5/10\n",
      "122339/122339 [==============================] - 3s 26us/step - loss: 3158.1050 - accuracy: 0.6510\n",
      "Epoch 6/10\n",
      "122339/122339 [==============================] - 3s 26us/step - loss: 2102.7294 - accuracy: 0.6511\n",
      "Epoch 7/10\n",
      "122339/122339 [==============================] - 3s 26us/step - loss: 992.3608 - accuracy: 0.6511\n",
      "Epoch 8/10\n",
      "122339/122339 [==============================] - 3s 24us/step - loss: 702.7399 - accuracy: 0.6511\n",
      "Epoch 9/10\n",
      "122339/122339 [==============================] - 3s 24us/step - loss: 1188.9603 - accuracy: 0.6511\n",
      "Epoch 10/10\n",
      "122339/122339 [==============================] - 3s 24us/step - loss: 266.0776 - accuracy: 0.6512\n",
      "61170/61170 [==============================] - 0s 6us/step\n",
      "Epoch 1/10\n",
      "122339/122339 [==============================] - 3s 27us/step - loss: 9512723.7755 - accuracy: 0.6298\n",
      "Epoch 2/10\n",
      "122339/122339 [==============================] - 3s 26us/step - loss: 46997.9047 - accuracy: 0.6473\n",
      "Epoch 3/10\n",
      "122339/122339 [==============================] - 3s 26us/step - loss: 10143.8349 - accuracy: 0.6508\n",
      "Epoch 4/10\n",
      "122339/122339 [==============================] - 3s 27us/step - loss: 5456.0745 - accuracy: 0.6510\n",
      "Epoch 5/10\n",
      "122339/122339 [==============================] - 3s 27us/step - loss: 2745.5185 - accuracy: 0.6514\n",
      "Epoch 6/10\n",
      "122339/122339 [==============================] - 3s 27us/step - loss: 2223.1581 - accuracy: 0.6516\n",
      "Epoch 7/10\n",
      "122339/122339 [==============================] - 3s 28us/step - loss: 896.9198 - accuracy: 0.6517\n",
      "Epoch 8/10\n",
      "122339/122339 [==============================] - 3s 27us/step - loss: 991.6549 - accuracy: 0.6516\n",
      "Epoch 9/10\n",
      "122339/122339 [==============================] - 3s 25us/step - loss: 204.7314 - accuracy: 0.6516\n",
      "Epoch 10/10\n",
      "122339/122339 [==============================] - 3s 24us/step - loss: 394.5663 - accuracy: 0.6517\n",
      "61170/61170 [==============================] - 0s 5us/step\n",
      "Epoch 1/10\n",
      "122340/122340 [==============================] - 3s 25us/step - loss: 5278809.1933 - accuracy: 0.6303\n",
      "Epoch 2/10\n",
      "122340/122340 [==============================] - 3s 23us/step - loss: 43881.1019 - accuracy: 0.5643\n",
      "Epoch 3/10\n",
      "122340/122340 [==============================] - 3s 24us/step - loss: 11109.1258 - accuracy: 0.5658\n",
      "Epoch 4/10\n",
      "122340/122340 [==============================] - 3s 24us/step - loss: 3974.0195 - accuracy: 0.5901\n",
      "Epoch 5/10\n",
      "122340/122340 [==============================] - 3s 24us/step - loss: 1524.7078 - accuracy: 0.6429\n",
      "Epoch 6/10\n",
      "122340/122340 [==============================] - 3s 25us/step - loss: 1043.0488 - accuracy: 0.6532\n",
      "Epoch 7/10\n",
      "122340/122340 [==============================] - 3s 25us/step - loss: 374.2650 - accuracy: 0.6534\n",
      "Epoch 8/10\n",
      "122340/122340 [==============================] - 3s 25us/step - loss: 304.7369 - accuracy: 0.6535\n",
      "Epoch 9/10\n",
      "122340/122340 [==============================] - 3s 26us/step - loss: 300.5015 - accuracy: 0.6536\n",
      "Epoch 10/10\n",
      "122340/122340 [==============================] - 3s 25us/step - loss: 187.7176 - accuracy: 0.6537\n",
      "61169/61169 [==============================] - 0s 5us/step\n",
      "Epoch 1/10\n",
      "122339/122339 [==============================] - 2s 13us/step - loss: 25633826.8827 - accuracy: 0.6662\n",
      "Epoch 2/10\n",
      "122339/122339 [==============================] - 1s 12us/step - loss: 765585.0064 - accuracy: 0.6184\n",
      "Epoch 3/10\n",
      "122339/122339 [==============================] - 1s 11us/step - loss: 190639.6278 - accuracy: 0.5832\n",
      "Epoch 4/10\n",
      "122339/122339 [==============================] - 1s 11us/step - loss: 87194.6765 - accuracy: 0.5876\n",
      "Epoch 5/10\n",
      "122339/122339 [==============================] - 1s 11us/step - loss: 47424.0363 - accuracy: 0.5834\n",
      "Epoch 6/10\n",
      "122339/122339 [==============================] - 1s 11us/step - loss: 27438.2972 - accuracy: 0.5791\n",
      "Epoch 7/10\n",
      "122339/122339 [==============================] - 1s 11us/step - loss: 17255.8039 - accuracy: 0.5762\n",
      "Epoch 8/10\n",
      "122339/122339 [==============================] - 1s 11us/step - loss: 15687.9338 - accuracy: 0.5923\n",
      "Epoch 9/10\n",
      "122339/122339 [==============================] - 1s 12us/step - loss: 6872.6682 - accuracy: 0.6052\n",
      "Epoch 10/10\n",
      "122339/122339 [==============================] - 1s 12us/step - loss: 7357.1669 - accuracy: 0.6174\n",
      "61170/61170 [==============================] - 0s 3us/step\n",
      "Epoch 1/10\n",
      "122339/122339 [==============================] - 2s 13us/step - loss: 16682139.3524 - accuracy: 0.7018\n",
      "Epoch 2/10\n",
      "122339/122339 [==============================] - 1s 12us/step - loss: 336435.5920 - accuracy: 0.6377\n",
      "Epoch 3/10\n",
      "122339/122339 [==============================] - 1s 12us/step - loss: 113708.9766 - accuracy: 0.6179\n",
      "Epoch 4/10\n",
      "122339/122339 [==============================] - 1s 12us/step - loss: 61153.6771 - accuracy: 0.6138\n",
      "Epoch 5/10\n",
      "122339/122339 [==============================] - 1s 12us/step - loss: 41530.1246 - accuracy: 0.6042\n",
      "Epoch 6/10\n",
      "122339/122339 [==============================] - 1s 12us/step - loss: 24575.5003 - accuracy: 0.5981\n",
      "Epoch 7/10\n",
      "122339/122339 [==============================] - 1s 12us/step - loss: 16248.5242 - accuracy: 0.5952\n",
      "Epoch 8/10\n",
      "122339/122339 [==============================] - 1s 11us/step - loss: 11461.9159 - accuracy: 0.6030\n",
      "Epoch 9/10\n",
      "122339/122339 [==============================] - 1s 11us/step - loss: 7764.6477 - accuracy: 0.6181\n",
      "Epoch 10/10\n",
      "122339/122339 [==============================] - 1s 11us/step - loss: 4357.5230 - accuracy: 0.6271\n",
      "61170/61170 [==============================] - 0s 3us/step\n",
      "Epoch 1/10\n",
      "122340/122340 [==============================] - 2s 13us/step - loss: 23967943.9317 - accuracy: 0.6419\n",
      "Epoch 2/10\n",
      "122340/122340 [==============================] - 1s 11us/step - loss: 631521.9412 - accuracy: 0.6313\n",
      "Epoch 3/10\n",
      "122340/122340 [==============================] - 1s 11us/step - loss: 155836.8640 - accuracy: 0.6106\n",
      "Epoch 4/10\n",
      "122340/122340 [==============================] - 1s 11us/step - loss: 66901.8479 - accuracy: 0.6022\n",
      "Epoch 5/10\n",
      "122340/122340 [==============================] - 1s 11us/step - loss: 44862.6364 - accuracy: 0.6001\n",
      "Epoch 6/10\n",
      "122340/122340 [==============================] - 1s 11us/step - loss: 29142.9686 - accuracy: 0.6135\n",
      "Epoch 7/10\n",
      "122340/122340 [==============================] - 1s 11us/step - loss: 19268.5485 - accuracy: 0.6185\n",
      "Epoch 8/10\n",
      "122340/122340 [==============================] - 1s 11us/step - loss: 13039.2459 - accuracy: 0.6221\n",
      "Epoch 9/10\n",
      "122340/122340 [==============================] - 1s 11us/step - loss: 9119.9582 - accuracy: 0.6289\n",
      "Epoch 10/10\n",
      "122340/122340 [==============================] - 1s 11us/step - loss: 6170.5219 - accuracy: 0.6330\n",
      "61169/61169 [==============================] - 0s 3us/step\n",
      "Epoch 1/10\n",
      "122339/122339 [==============================] - 2s 19us/step - loss: 10946603.3386 - accuracy: 0.6473\n",
      "Epoch 2/10\n",
      "122339/122339 [==============================] - 2s 17us/step - loss: 133094.6663 - accuracy: 0.6435\n",
      "Epoch 3/10\n",
      "122339/122339 [==============================] - 2s 17us/step - loss: 37704.9700 - accuracy: 0.6481\n",
      "Epoch 4/10\n",
      "122339/122339 [==============================] - 2s 18us/step - loss: 17724.9870 - accuracy: 0.6492\n",
      "Epoch 5/10\n",
      "122339/122339 [==============================] - 2s 18us/step - loss: 8859.6386 - accuracy: 0.6500\n",
      "Epoch 6/10\n",
      "122339/122339 [==============================] - 2s 18us/step - loss: 5452.1919 - accuracy: 0.6507\n",
      "Epoch 7/10\n",
      "122339/122339 [==============================] - 2s 18us/step - loss: 4464.7130 - accuracy: 0.6506\n",
      "Epoch 8/10\n",
      "122339/122339 [==============================] - 2s 18us/step - loss: 3128.2957 - accuracy: 0.6509\n",
      "Epoch 9/10\n",
      "122339/122339 [==============================] - 2s 18us/step - loss: 1834.0495 - accuracy: 0.6509\n",
      "Epoch 10/10\n",
      "122339/122339 [==============================] - 2s 17us/step - loss: 1471.0424 - accuracy: 0.6511\n",
      "61170/61170 [==============================] - 0s 4us/step\n",
      "Epoch 1/10\n",
      "122339/122339 [==============================] - 2s 19us/step - loss: 26178835.4239 - accuracy: 0.6248\n",
      "Epoch 2/10\n",
      "122339/122339 [==============================] - 2s 16us/step - loss: 247835.3958 - accuracy: 0.6379\n",
      "Epoch 3/10\n",
      "122339/122339 [==============================] - 2s 16us/step - loss: 67254.0766 - accuracy: 0.6483\n",
      "Epoch 4/10\n",
      "122339/122339 [==============================] - 2s 16us/step - loss: 36235.8610 - accuracy: 0.6497\n",
      "Epoch 5/10\n",
      "122339/122339 [==============================] - 2s 16us/step - loss: 20631.4312 - accuracy: 0.6504\n",
      "Epoch 6/10\n",
      "122339/122339 [==============================] - 2s 16us/step - loss: 11701.6101 - accuracy: 0.6509\n",
      "Epoch 7/10\n",
      "122339/122339 [==============================] - 2s 16us/step - loss: 7692.7899 - accuracy: 0.6510\n",
      "Epoch 8/10\n",
      "122339/122339 [==============================] - 2s 16us/step - loss: 6388.3275 - accuracy: 0.6513\n",
      "Epoch 9/10\n",
      "122339/122339 [==============================] - 2s 16us/step - loss: 3041.9883 - accuracy: 0.6513\n",
      "Epoch 10/10\n",
      "122339/122339 [==============================] - 2s 17us/step - loss: 3713.4808 - accuracy: 0.6515\n",
      "61170/61170 [==============================] - 0s 4us/step\n",
      "Epoch 1/10\n",
      "122340/122340 [==============================] - 2s 20us/step - loss: 13887197.4201 - accuracy: 0.6081\n",
      "Epoch 2/10\n",
      "122340/122340 [==============================] - 2s 17us/step - loss: 163351.8852 - accuracy: 0.6429\n",
      "Epoch 3/10\n",
      "122340/122340 [==============================] - 2s 17us/step - loss: 44471.7014 - accuracy: 0.6499\n",
      "Epoch 4/10\n",
      "122340/122340 [==============================] - 2s 17us/step - loss: 18511.6661 - accuracy: 0.6522\n",
      "Epoch 5/10\n",
      "122340/122340 [==============================] - 2s 17us/step - loss: 11535.3258 - accuracy: 0.6526\n",
      "Epoch 6/10\n",
      "122340/122340 [==============================] - 2s 17us/step - loss: 7036.9280 - accuracy: 0.6530\n",
      "Epoch 7/10\n",
      "122340/122340 [==============================] - 2s 18us/step - loss: 4049.1613 - accuracy: 0.6530\n",
      "Epoch 8/10\n",
      "122340/122340 [==============================] - 2s 17us/step - loss: 3606.3209 - accuracy: 0.6534\n",
      "Epoch 9/10\n",
      "122340/122340 [==============================] - 2s 17us/step - loss: 3119.6064 - accuracy: 0.6534\n",
      "Epoch 10/10\n",
      "122340/122340 [==============================] - 2s 17us/step - loss: 1239.1048 - accuracy: 0.6536\n",
      "61169/61169 [==============================] - 0s 4us/step\n",
      "Epoch 1/10\n",
      "183509/183509 [==============================] - 5s 27us/step - loss: 0.5076 - accuracy: 0.7412\n",
      "Epoch 2/10\n",
      "183509/183509 [==============================] - 5s 26us/step - loss: 0.4500 - accuracy: 0.7876\n",
      "Epoch 3/10\n",
      "183509/183509 [==============================] - 5s 29us/step - loss: 0.4446 - accuracy: 0.7939\n",
      "Epoch 4/10\n",
      "183509/183509 [==============================] - 5s 30us/step - loss: 0.4421 - accuracy: 0.7963\n",
      "Epoch 5/10\n",
      "183509/183509 [==============================] - 5s 27us/step - loss: 0.4402 - accuracy: 0.7964\n",
      "Epoch 6/10\n",
      "183509/183509 [==============================] - 5s 25us/step - loss: 0.4382 - accuracy: 0.7976\n",
      "Epoch 7/10\n",
      "183509/183509 [==============================] - 5s 29us/step - loss: 0.4372 - accuracy: 0.7982\n",
      "Epoch 8/10\n",
      "183509/183509 [==============================] - 5s 28us/step - loss: 0.4377 - accuracy: 0.7978\n",
      "Epoch 9/10\n",
      "183509/183509 [==============================] - 6s 30us/step - loss: 0.4352 - accuracy: 0.7991\n",
      "Epoch 10/10\n",
      "183509/183509 [==============================] - 5s 26us/step - loss: 0.4368 - accuracy: 0.7983\n"
     ]
    }
   ],
   "source": [
    "grid_result=grid.fit(X_train, y_train)"
   ]
  },
  {
   "cell_type": "code",
   "execution_count": 190,
   "metadata": {},
   "outputs": [
    {
     "name": "stdout",
     "output_type": "stream",
     "text": [
      "0.8194584846496582 {'activation': 'sigmoid', 'batch_size': 128, 'epochs': 10, 'layers': (50, 30, 50)}\n"
     ]
    }
   ],
   "source": [
    "print(grid_result.best_score_, grid_result.best_params_)"
   ]
  },
  {
   "cell_type": "code",
   "execution_count": 191,
   "metadata": {},
   "outputs": [
    {
     "name": "stdout",
     "output_type": "stream",
     "text": [
      "45878/45878 [==============================] - 0s 8us/step\n",
      "20/20 [==============================] - 0s 50us/step\n",
      "45878/45878 [==============================] - 0s 6us/step\n",
      "Matriz de confusão (dados de teste):\n",
      " [[15378   579]\n",
      " [ 8366 21555]]\n",
      "\n",
      "Accept Recall Score:  0.9637149840195526\n",
      "Drop Recall Score:  0.7203970455532903\n",
      "\n",
      "Accept Precision Score:  0.6476583557951483\n",
      "Drop Precision Score:  0.973841149362971\n",
      "\n",
      "Accept F1 Score:  0.7746908138334048\n",
      "Drop F1 Score:  0.8281625204111036\n",
      "\n",
      "Accuracy:  0.8050263742970487\n",
      "ROC AUC: 0.8613804019528379\n",
      "\n",
      "DADOS DE TESTE\n",
      "\n",
      "Matriz de confusão:\n",
      " [[12  8]\n",
      " [ 0  0]]\n",
      "\n",
      "Accuracy: 0.6\n",
      "[['Drop']\n",
      " ['Drop']\n",
      " ['Accept']\n",
      " ['Accept']\n",
      " ['Accept']\n",
      " ['Accept']\n",
      " ['Drop']\n",
      " ['Drop']\n",
      " ['Accept']\n",
      " ['Accept']\n",
      " ['Drop']\n",
      " ['Drop']\n",
      " ['Accept']\n",
      " ['Accept']\n",
      " ['Accept']\n",
      " ['Drop']\n",
      " ['Accept']\n",
      " ['Accept']\n",
      " ['Accept']\n",
      " ['Drop']]\n"
     ]
    }
   ],
   "source": [
    "y_pred = grid.predict(X_test) #previsões de teste\n",
    "ypred = grid.predict(Xtest)\n",
    "y_pred_prob = grid.predict_proba(X_test) #probabilidades previstas\n",
    "print_scores(y_test, y_pred, y_pred_prob, ytest, ypred)"
   ]
  },
  {
   "cell_type": "code",
   "execution_count": 231,
   "metadata": {},
   "outputs": [
    {
     "name": "stdout",
     "output_type": "stream",
     "text": [
      "Matriz de confusão (dados de treino):\n",
      " [[ 63617    208]\n",
      " [  1003 118681]]\n",
      "Matriz de confusão (dados de teste):\n",
      " [[15839   118]\n",
      " [  319 29602]]\n",
      "\n",
      "Accept Recall Score:  0.992605126276869\n",
      "Drop Recall Score:  0.9893385916246115\n",
      "\n",
      "Accept Precision Score:  0.9802574576061394\n",
      "Drop Precision Score:  0.9960296096904442\n",
      "\n",
      "Accept F1 Score:  0.9863926514089989\n",
      "Drop F1 Score:  0.9926728257406818\n",
      "\n",
      "Accuracy:  0.9904747373468765\n",
      "ROC AUC: 0.9977001835023787\n",
      "\n",
      "DADOS DE TESTE\n",
      "\n",
      "Matriz de confusão:\n",
      " [[12  8]\n",
      " [ 0  0]]\n",
      "\n",
      "Accuracy: 0.6\n",
      "['Drop' 'Drop' 'Accept' 'Accept' 'Accept' 'Accept' 'Accept' 'Drop' 'Drop'\n",
      " 'Accept' 'Drop' 'Drop' 'Accept' 'Accept' 'Accept' 'Drop' 'Accept'\n",
      " 'Accept' 'Accept' 'Drop']\n"
     ]
    }
   ],
   "source": [
    "# Modelo Ensemble AdaBoost\n",
    "\n",
    "from sklearn.ensemble import AdaBoostClassifier\n",
    "from sklearn.tree import DecisionTreeClassifier\n",
    "\n",
    "y_pred, y_pred_prob, ypred = get_predictions(AdaBoostClassifier(DecisionTreeClassifier(criterion = 'entropy',\n",
    "                                                                                       max_depth=7, \n",
    "                                                                                       min_samples_split=12, \n",
    "                                                                                       min_samples_leaf=1), \n",
    "                                                                n_estimators=25), \n",
    "                                             X_train, y_train, X_test, Xtest)\n",
    "print_scores(y_test, y_pred, y_pred_prob, ytest, ypred)"
   ]
  },
  {
   "cell_type": "code",
   "execution_count": 232,
   "metadata": {},
   "outputs": [],
   "source": [
    "# Importância relativa dos atributos?\n",
    "from sklearn.feature_selection import SelectKBest\n",
    "from sklearn.feature_selection import chi2"
   ]
  },
  {
   "cell_type": "code",
   "execution_count": 233,
   "metadata": {},
   "outputs": [],
   "source": [
    "def select_features(X_train, y_train, X_test, Xtest,  k):\n",
    "    fs = SelectKBest(score_func=chi2, k=k)\n",
    "    fs.fit(X_train, y_train)\n",
    "    X_train_fs = fs.transform(X_train)\n",
    "    X_test_fs = fs.transform(X_test)\n",
    "    Xtest_fs = fs.transform(Xtest)\n",
    "    return X_train_fs, X_test_fs, Xtest_fs, fs"
   ]
  },
  {
   "cell_type": "code",
   "execution_count": 234,
   "metadata": {
    "scrolled": true
   },
   "outputs": [
    {
     "name": "stdout",
     "output_type": "stream",
     "text": [
      "Feature 0: 61370295.155641\n",
      "Feature 1: 145679147.736697\n",
      "Feature 2: 76014812602458.187500\n",
      "Feature 3: 9597847622976.796875\n",
      "Feature 4: 58.171967\n"
     ]
    },
    {
     "data": {
      "image/png": "[encoded data removed]",
      "text/plain": [
       "<Figure size 432x288 with 1 Axes>"
      ]
     },
     "metadata": {
      "needs_background": "light"
     },
     "output_type": "display_data"
    }
   ],
   "source": [
    "X_train_fs, X_test_fs, Xtest_fs, fs = select_features(X_train, y_train, X_test, Xtest, k='all')\n",
    "\n",
    "for i in range(len(fs.scores_)):\n",
    "    print('Feature %d: %f' % (i, fs.scores_[i]))\n",
    "    \n",
    "plt.bar([i for i in range(len(fs.scores_))], fs.scores_)\n",
    "plt.title('Feature Selection Score (Chi-Square)')\n",
    "plt.show()"
   ]
  },
  {
   "cell_type": "code",
   "execution_count": 235,
   "metadata": {},
   "outputs": [],
   "source": [
    "# Selecionamos então apenas as 2 variáveis\n",
    "\n",
    "X_train_fs, X_test_fs, Xtest_fs, fs = select_features(X_train, y_train, X_test, Xtest, k=2)"
   ]
  },
  {
   "cell_type": "code",
   "execution_count": 251,
   "metadata": {},
   "outputs": [
    {
     "name": "stdout",
     "output_type": "stream",
     "text": [
      "Matriz de confusão (dados de treino):\n",
      " [[ 63493    332]\n",
      " [  2193 117491]]\n",
      "Matriz de confusão (dados de teste):\n",
      " [[15762   195]\n",
      " [  692 29229]]\n",
      "\n",
      "Accept Recall Score:  0.9877796578304192\n",
      "Drop Recall Score:  0.9768724307342669\n",
      "\n",
      "Accept Precision Score:  0.9579433572383615\n",
      "Drop Precision Score:  0.9933727569331158\n",
      "\n",
      "Accept F1 Score:  0.9726327481410632\n",
      "Drop F1 Score:  0.9850535007161513\n",
      "\n",
      "Accuracy:  0.9806661144775274\n",
      "ROC AUC: 0.9948555312553888\n",
      "\n",
      "DADOS DE TESTE\n",
      "\n",
      "Matriz de confusão:\n",
      " [[12  8]\n",
      " [ 0  0]]\n",
      "\n",
      "Accuracy: 0.6\n",
      "['Drop' 'Drop' 'Accept' 'Accept' 'Accept' 'Accept' 'Accept' 'Drop' 'Drop'\n",
      " 'Accept' 'Drop' 'Drop' 'Accept' 'Accept' 'Accept' 'Drop' 'Accept'\n",
      " 'Accept' 'Accept' 'Drop']\n"
     ]
    }
   ],
   "source": [
    "y_pred, y_pred_prob, ypred = get_predictions(AdaBoostClassifier(DecisionTreeClassifier(criterion='entropy',\n",
    "                                                                   max_depth=10,\n",
    "                                                                   min_samples_split=12,\n",
    "                                                                   min_samples_leaf=1), \n",
    "                                                                n_estimators=200),\n",
    "                                             X_train_fs, y_train, X_test_fs, Xtest_fs)\n",
    "print_scores(y_test, y_pred, y_pred_prob, ytest, ypred)"
   ]
  },
  {
   "cell_type": "code",
   "execution_count": null,
   "metadata": {},
   "outputs": [],
   "source": []
  }
 ],
 "metadata": {
  "kernelspec": {
   "display_name": "Python 3",
   "language": "python",
   "name": "python3"
  },
  "language_info": {
   "codemirror_mode": {
    "name": "ipython",
    "version": 3
   },
   "file_extension": ".py",
   "mimetype": "text/x-python",
   "name": "python",
   "nbconvert_exporter": "python",
   "pygments_lexer": "ipython3",
   "version": "3.7.4"
  }
 },
 "nbformat": 4,
 "nbformat_minor": 2
}
